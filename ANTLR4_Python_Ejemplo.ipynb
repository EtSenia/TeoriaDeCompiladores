{
  "cells": [
    {
      "cell_type": "code",
      "execution_count": 1,
      "metadata": {
        "id": "4K2johCzBQhk"
      },
      "outputs": [],
      "source": [
        "import os\n",
        "for f in os.listdir():\n",
        "    if f.startswith(\"Slide\") or (f.endswith(\".py\") or f.endswith(\".tokens\")):\n",
        "        os.remove(f)\n"
      ]
    },
    {
      "cell_type": "code",
      "execution_count": null,
      "metadata": {
        "colab": {
          "base_uri": "https://localhost:8080/"
        },
        "id": "MG9on7rf8_n4",
        "outputId": "9dcd3305-b60c-4ac3-ca30-d4c48fd3fb6b"
      },
      "outputs": [],
      "source": [
        "!pip install antlr4-python3-runtime"
      ]
    },
    {
      "cell_type": "code",
      "execution_count": null,
      "metadata": {
        "colab": {
          "base_uri": "https://localhost:8080/"
        },
        "id": "7vBMSmaI9DFJ",
        "outputId": "5f7b9393-370c-4598-eaac-7481862322ac"
      },
      "outputs": [],
      "source": [
        "!curl -O https://www.antlr.org/download/antlr-4.13.1-complete.jar"
      ]
    },
    {
      "cell_type": "markdown",
      "metadata": {
        "id": "O0AT5TWR9rmo"
      },
      "source": [
        "# Creando el Grammar"
      ]
    },
    {
      "cell_type": "code",
      "execution_count": 2,
      "metadata": {
        "id": "G5Ld9eqA9Er_"
      },
      "outputs": [],
      "source": [
        "grammar = \"\"\"\n",
        "grammar Slide;\n",
        "\n",
        "program: stat* EOF\n",
        "    ;\n",
        "\n",
        "stat: expr ';'\n",
        "    ;\n",
        "\n",
        "\n",
        "expr: slide\n",
        "    ;\n",
        "\n",
        "slide    : 'Slide' ID '{' (text | img)* '}';\n",
        "text    : 'Text'  '{' ((transform | text_prop) ';')* '}';\n",
        "img     : 'Image' '{' ((transform | src) ';')* '}';\n",
        "\n",
        "\n",
        "transform   : position\n",
        "            | width\n",
        "            | height\n",
        "            ;\n",
        "\n",
        "text_prop   : textCont\n",
        "            | fontSize\n",
        "            | fontFam\n",
        "            | align\n",
        "            ;\n",
        "            \n",
        "src         : 'src=' STR;\n",
        "bg          : 'bg=' STR;\n",
        "\n",
        "position    : 'position=' UNIDAD ',' UNIDAD;\n",
        "rotation    : 'rotation=' INT;\n",
        "width       : 'width='  UNIDAD;\n",
        "height      : 'height='  UNIDAD;\n",
        "\n",
        "textCont    : 'content=' STR;\n",
        "fontSize    : 'font-size=' INT;\n",
        "fontFam     : 'font-family=' STR;\n",
        "align       : 'align=' ALIGN;\n",
        "\n",
        "ALIGN: 'center'\n",
        "    |  'left'\n",
        "    |  'right'\n",
        "    |  'justified';\n",
        "\n",
        "UNIDAD: INT+ ('%' | 'px') ;\n",
        "\n",
        "INT : [0-9]+ ;\n",
        "ID: [a-zA-Z_][a-zA-Z_0-9]* ;\n",
        "STR : '\"' (~[\\\\r\\\\n])* '\"' ;\n",
        "TEXT_BLOCK : '\"\"\"' .*? '\"\"\"' -> type(STR);\n",
        "LINE_COMMENT: '//' ~[\\\\r\\\\n]* -> skip;\n",
        "BLOCK_COMMENT: '/*' .*? '*/' -> skip;\n",
        "\n",
        "WS  : [ \\\\t\\\\r\\\\n]+ -> skip;\n",
        "\"\"\"\n",
        "with open(\"Slide.g4\", \"w\") as f:\n",
        "    f.write(grammar)\n",
        "\n",
        "test = \"\"\"\n",
        "    Slide Slide1 {\n",
        "        Text {\n",
        "            content= \\\"\\\"\\\" esta         es     \n",
        "            unaa .        prueba\n",
        "            \\\"\\\"\\\";\n",
        "            position= 10px, 10px;\n",
        "            font-size= 30;\n",
        "            font-family= \"Arial\";\n",
        "            align= center;\n",
        "        }\n",
        "        Image {\n",
        "            position= 50%, 50%;\n",
        "            width= 300px;\n",
        "            height= 200px;\n",
        "            src= \"image.png\";\n",
        "        }\n",
        "    };\n",
        "    Slide Slide2 {\n",
        "        Image {\n",
        "            position= 50%, 50%;\n",
        "            width= 300px;\n",
        "            height= 200px;\n",
        "            src= \"image.png\";\n",
        "        }\n",
        "    };\n",
        "\"\"\""
      ]
    },
    {
      "cell_type": "code",
      "execution_count": 3,
      "metadata": {
        "id": "oAQ9JzBC9FfB"
      },
      "outputs": [],
      "source": [
        "!java -jar antlr-4.13.1-complete.jar -Dlanguage=Python3 Slide.g4"
      ]
    },
    {
      "cell_type": "markdown",
      "metadata": {
        "id": "Ku1DSzwH9ulL"
      },
      "source": [
        "# Probando"
      ]
    },
    {
      "cell_type": "code",
      "execution_count": 5,
      "metadata": {
        "colab": {
          "base_uri": "https://localhost:8080/"
        },
        "id": "l0T_LaiC9Io6",
        "outputId": "6e7fe965-b99b-4fa8-8af9-0f522abd63ec"
      },
      "outputs": [
        {
          "name": "stdout",
          "output_type": "stream",
          "text": [
            "(prog (stat (expr (slide Slide Slide1 { (text Text { (text_prop (textCont content= \"\"\" esta         es     \\n            unaa .        prueba\\n            \"\"\" ;)) (transform (position position= 10px , 10px ;)) (text_prop (fontSize font-size= 30 ;)) (text_prop (fontFam font-family= \"Arial\" ;)) (text_prop (align align= center ;)) }) (img Image { (transform (position position= 50% , 50% ;)) (transform (width width= 300px ;)) (transform (height height= 200px ;)) (src src= \"image.png\" ;) }) })) ;) (stat (expr (slide Slide Slide2 { (img Image { (transform (position position= 50% , 50% ;)) (transform (width width= 300px ;)) (transform (height height= 200px ;)) (src src= \"image.png\" ;) }) })) ;) <EOF>)\n"
          ]
        }
      ],
      "source": [
        "from antlr4 import *\n",
        "from SlideLexer import SlideLexer\n",
        "from SlideParser import SlideParser\n",
        "\n",
        "def parse_expression(input_text):\n",
        "    input_stream = InputStream(input_text)\n",
        "    lexer = SlideLexer(input_stream)\n",
        "    token_stream = CommonTokenStream(lexer)\n",
        "    parser = SlideParser(token_stream)\n",
        "    tree = parser.prog()\n",
        "    return tree.toStringTree(recog=parser)\n",
        "\n",
        "# Ejemplo:\n",
        "print(parse_expression(test))\n"
      ]
    }
  ],
  "metadata": {
    "colab": {
      "provenance": []
    },
    "kernelspec": {
      "display_name": "Python 3",
      "name": "python3"
    },
    "language_info": {
      "codemirror_mode": {
        "name": "ipython",
        "version": 3
      },
      "file_extension": ".py",
      "mimetype": "text/x-python",
      "name": "python",
      "nbconvert_exporter": "python",
      "pygments_lexer": "ipython3",
      "version": "3.13.3"
    }
  },
  "nbformat": 4,
  "nbformat_minor": 0
}
